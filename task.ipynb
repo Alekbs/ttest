{
  "cells": [
    {
      "cell_type": "markdown",
      "id": "7e8912a9",
      "metadata": {
        "id": "7e8912a9"
      },
      "source": [
        "Лабораторная работа №1\n",
        "по дисциплине «Анализ данных».\n",
        "\n",
        "> Задание:\n",
        "\n",
        "Найти датасет.\n",
        "* Произвести выборки,\n",
        "* определить t-критерий Стьюдента.\n",
        "* anova test\n",
        "* Сделать выводы."
      ]
    },
    {
      "cell_type": "code",
      "execution_count": 2,
      "id": "b9741c5e",
      "metadata": {
        "id": "b9741c5e"
      },
      "outputs": [],
      "source": [
        "import numpy as np\n",
        "import scipy.stats as stats\n",
        "import matplotlib.pyplot as plt\n",
        "import csv\n",
        "\n",
        "%matplotlib inline"
      ]
    },
    {
      "cell_type": "markdown",
      "id": "206267fb",
      "metadata": {},
      "source": [
        "Даны две выборки:\n",
        "эффективность парацетамола и ибупрофена"
      ]
    },
    {
      "cell_type": "code",
      "execution_count": 14,
      "id": "aa23c295",
      "metadata": {
        "id": "aa23c295"
      },
      "outputs": [],
      "source": [
        "with open('C:/Users/aleks/Documents/pyth/data_analysis/ttest/Drug.csv', 'r', newline='') as csvfile:\n",
        "    data = csv.reader(csvfile, delimiter=',')\n",
        "    Ibuprofen_ef = []\n",
        "    Acetaminophen_ef = []\n",
        "    for row in data:\n",
        "        if row[1] == \"Ibuprofen\":\n",
        "            Ibuprofen_ef.append(float(row[5]))\n",
        "        if row[1] == \"Acetaminophen\":\n",
        "            Acetaminophen_ef.append(float(row[5]))\n",
        "    \n",
        "            "
      ]
    },
    {
      "cell_type": "markdown",
      "id": "29065cfd",
      "metadata": {
        "id": "29065cfd"
      },
      "source": [
        "* H0 - Эффективность ибупрофена и эффективность парацетамола одинаковы\n",
        "* H1 - Эффективность ибупрофена и эффективность парацетамола отлючаются\n"
      ]
    },
    {
      "cell_type": "code",
      "execution_count": 8,
      "id": "53ba0c96",
      "metadata": {
        "id": "53ba0c96",
        "outputId": "e4aff4ad-2dc1-4936-8bd2-c8ebe7a2dff5"
      },
      "outputs": [
        {
          "name": "stdout",
          "output_type": "stream",
          "text": [
            "TtestResult(statistic=2.951325974492354, pvalue=0.0035737787617243534, df=185.0)\n"
          ]
        }
      ],
      "source": [
        "rez = stats.ttest_ind (a=Ibuprofen_ef, b=Acetaminophen_ef)\n",
        "print(rez)"
      ]
    },
    {
      "cell_type": "markdown",
      "id": "95948d36",
      "metadata": {
        "id": "95948d36"
      },
      "source": [
        "##### т.к. значение р-теста (0.0035) меньше, чем альфа = 0,05, мы можем отвергнуть нулевую гипотезу"
      ]
    },
    {
      "cell_type": "markdown",
      "id": "ffff7c51",
      "metadata": {
        "id": "ffff7c51"
      },
      "source": [
        "## ANOVA\n",
        "Построим блочную диаграмму:"
      ]
    },
    {
      "cell_type": "code",
      "execution_count": 21,
      "id": "96f58e10",
      "metadata": {},
      "outputs": [
        {
          "data": {
            "text/plain": [
              "Text(0, 0.5, 'эффективность')"
            ]
          },
          "execution_count": 21,
          "metadata": {},
          "output_type": "execute_result"
        },
        {
          "data": {
            "image/png": "[encoded data removed]",
            "text/plain": [
              "<Figure size 640x480 with 1 Axes>"
            ]
          },
          "metadata": {},
          "output_type": "display_data"
        }
      ],
      "source": [
        "height = [Acetaminophen_ef, Ibuprofen_ef]\n",
        "\n",
        "plt.boxplot(height, labels=[\"парацетамол\",\"ибупрофен\"])\n",
        "plt.title(\"Блочная диаграмма\", fontsize=15)\n",
        "plt.ylabel(\"эффективность\", fontsize=12, color=\"blue\")"
      ]
    },
    {
      "cell_type": "code",
      "execution_count": 23,
      "id": "ad6cfe43",
      "metadata": {
        "id": "ad6cfe43",
        "outputId": "d308dbd3-c19b-4f9a-b97c-ce1fa5f95afe"
      },
      "outputs": [
        {
          "data": {
            "text/plain": [
              "F_onewayResult(statistic=8.710325007713253, pvalue=0.003573778761724374)"
            ]
          },
          "execution_count": 23,
          "metadata": {},
          "output_type": "execute_result"
        }
      ],
      "source": [
        "from scipy.stats import f_oneway\n",
        "\n",
        "f_oneway(Acetaminophen_ef, Ibuprofen_ef)"
      ]
    },
    {
      "cell_type": "markdown",
      "id": "e7e2a1a3",
      "metadata": {
        "id": "e7e2a1a3"
      },
      "source": [
        "##### т.к. значение р-теста (0.0035) меньше, чем 0,05, мы можем отвергнуть нулевую гипотезу"
      ]
    }
  ],
  "metadata": {
    "colab": {
      "provenance": []
    },
    "kernelspec": {
      "display_name": "Python 3 (ipykernel)",
      "language": "python",
      "name": "python3"
    },
    "language_info": {
      "codemirror_mode": {
        "name": "ipython",
        "version": 3
      },
      "file_extension": ".py",
      "mimetype": "text/x-python",
      "name": "python",
      "nbconvert_exporter": "python",
      "pygments_lexer": "ipython3",
      "version": "3.11.5"
    }
  },
  "nbformat": 4,
  "nbformat_minor": 5
}
